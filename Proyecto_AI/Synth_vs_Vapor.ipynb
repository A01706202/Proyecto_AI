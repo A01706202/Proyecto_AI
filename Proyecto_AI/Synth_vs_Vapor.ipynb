{
  "cells": [
    {
      "cell_type": "code",
      "execution_count": null,
      "metadata": {
        "id": "8wJYdVsfYO4G"
      },
      "outputs": [],
      "source": [
        "from google.colab import drive\n",
        "drive.mount('/content/drive')\n"
      ]
    },
    {
      "cell_type": "code",
      "execution_count": null,
      "metadata": {
        "id": "FtxCm5DvkYkB"
      },
      "outputs": [],
      "source": [
        "%cd \"/content/drive/MyDrive/Proyecto_AI/images\"\n",
        "!ls"
      ]
    },
    {
      "cell_type": "markdown",
      "metadata": {
        "id": "RyRpvQCAj7aI"
      },
      "source": [
        "# Data Augmentation\n",
        "\n",
        "Usamos ImageDataGenerator para generar imagenes nuevas en el ram mientras entrenamos para no desperdiciar espacio.\n",
        "\n",
        "\n",
        "\n",
        "\n"
      ]
    },
    {
      "cell_type": "markdown",
      "source": [
        "**Transformaciones**\n",
        "\n",
        "Primeramente se reescalan las imágenes para entrenar la red neuronal\n",
        "\n",
        "Segundo, las características que identifican a la estética Vaporwave de Synthwave y visceversa son la paleta de colores y los elementos que utilizan. Así que se necesitan imágenes que muestren diferentes vistas de estos elementos (rotados y cambiados horizontalmente o verticalmente) y ligeramente estiradas de diferentes partes (pero sin exagerar para que no se deformen), esto se hizo con las transformaciones en la función."
      ],
      "metadata": {
        "id": "X_wQwE-v_o-X"
      }
    },
    {
      "cell_type": "code",
      "execution_count": null,
      "metadata": {
        "id": "Z5bsMefaTK9A"
      },
      "outputs": [],
      "source": [
        "import matplotlib.pyplot as plt\n",
        "import numpy as np\n",
        "import os\n",
        "import tensorflow as tf\n",
        "from tensorflow.keras.preprocessing.image import ImageDataGenerator\n",
        "\n",
        "\n",
        "path = \"/content/drive/MyDrive/Proyecto_AI/images\"\n",
        "\n",
        "base_dir = 'images'\n",
        "train_dir = os.path.join(base_dir,'train')\n",
        "test_dir = os.path.join(base_dir, 'test')\n",
        "\n",
        "train_datagen = ImageDataGenerator(\n",
        "\t\t\t\t\t\t\trescale = 1./255,\n",
        "\t\t\t\t\t\t\trotation_range = 40,\n",
        "\t\t\t\t\t\t\twidth_shift_range = 0.3,\n",
        "\t\t\t\t\t\t\theight_shift_range = 0.3,\n",
        "\t\t\t\t\t\t\tshear_range = 0.2,\n",
        "\t\t\t\t\t\t\tzoom_range = 0.2,\n",
        "\t\t\t\t\t\t\thorizontal_flip = True,\n",
        "\t\t\t\t\t\t\tvertical_flip = True)\n",
        "\t\t\t\t\t\t\t\n",
        "\n"
      ]
    },
    {
      "cell_type": "markdown",
      "metadata": {
        "id": "kL8IAD3V9fNW"
      },
      "source": [
        "Para ello tenemos que asignar una fuente base de imágenes a modificar, en este caso tomamos las de el directorio de train, en este caso solo estamos tomando una imagen y estamos mostrando como se generarían 5 imágenes diferentes:"
      ]
    },
    {
      "cell_type": "code",
      "execution_count": null,
      "metadata": {
        "id": "ba0d-2W-4vOA"
      },
      "outputs": [],
      "source": [
        "train_generator = train_datagen.flow_from_directory(\n",
        "\t\t\t\t\t\t\ttrain_dir,\n",
        "\t\t\t\t\t\t\ttarget_size = (150, 150),\n",
        "\t\t\t\t\t\t\tbatch_size = 1,\n",
        "\t\t\t\t\t\t\tclass_mode ='binary'\n",
        "\t\t\t\t\t\t\t)\n",
        "\n",
        "\n",
        "plt.figure()\n",
        "#subplot(r,c) provide the no. of rows and columns\n",
        "f, axarr = plt.subplots(1, 5, figsize=(30, 8)) \n",
        "\n",
        "for i in range(5) :\n",
        "  axarr[i].imshow(train_generator[0][0][0])"
      ]
    },
    {
      "cell_type": "markdown",
      "metadata": {
        "id": "iYBh5c4z94IY"
      },
      "source": [
        "En este caso estamos tomando 8 imágenes y estomos modificando todas 1 vez cada una y las mostramos a manera de ejemplo."
      ]
    },
    {
      "cell_type": "code",
      "execution_count": null,
      "metadata": {
        "id": "cUPHWziDorDe"
      },
      "outputs": [],
      "source": [
        "train_generator = train_datagen.flow_from_directory(\n",
        "\t\t\t\t\t\t\ttrain_dir,\n",
        "\t\t\t\t\t\t\ttarget_size = (150, 150),\n",
        "\t\t\t\t\t\t\tbatch_size = 8,\n",
        "\t\t\t\t\t\t\tclass_mode ='binary'\n",
        "\t\t\t\t\t\t\t)\n",
        "\n",
        "\n",
        "images , labels = train_generator[0]\n",
        "\n",
        "print(images.shape)\n",
        "print(labels)\n",
        "\n",
        "\n",
        "plt.figure()\n",
        "#subplot(r,c) provide the no. of rows and columns\n",
        "f, axarr = plt.subplots(1, images.shape[0], figsize=(30, 4)) \n",
        "\n",
        "for i in range(images.shape[0]) :  \n",
        "  axarr[i].imshow(images[i])"
      ]
    },
    {
      "cell_type": "markdown",
      "metadata": {
        "id": "KJCuWVCl-Kyd"
      },
      "source": [
        "También podemos configurar la generación de imágenes para que cada una se salve en el disco duro, de esta forma podemos ver posteriormente con qué imágenes entrenó el modelo. "
      ]
    },
    {
      "cell_type": "code",
      "execution_count": null,
      "metadata": {
        "id": "RFWZ_g5S73Sq"
      },
      "outputs": [],
      "source": [
        "train_generator = train_datagen.flow_from_directory(\n",
        "\t\t\t\t\t\t\ttrain_dir,\n",
        "\t\t\t\t\t\t\ttarget_size = (150, 150),\n",
        "\t\t\t\t\t\t\tbatch_size = 8,\n",
        "\t\t\t\t\t\t\tclass_mode ='binary',\n",
        "\t\t\t\t\t\t\tsave_to_dir= path + '/augmented',   \n",
        "              save_prefix='aug',\n",
        "              save_format='png'\n",
        "\t\t\t\t\t\t\t)"
      ]
    },
    {
      "cell_type": "markdown",
      "metadata": {
        "id": "wMwqSHLU-eKG"
      },
      "source": [
        "# Red Neuronal \n",
        "\n",
        "La arquitectura usada fue la ResNet-50, implementada en el paper \"Deep Residual Learning for Image Recognition\" por Kaiming He, Xiangyu Zhang, Shaoqing Ren y Jian Sun (https://arxiv.org/abs/1512.03385)\n",
        "\n",
        "Ya que esta red nos permite agregar más capas sin que haya overfitting, haciendo que pueda ser más precisa y de toda la familia ResNet, esta red es la más fácil de implementar para este proyecto."
      ]
    },
    {
      "cell_type": "code",
      "execution_count": 15,
      "metadata": {
        "colab": {
          "base_uri": "https://localhost:8080/",
          "height": 1000
        },
        "id": "-Y2957UWm1Ka",
        "outputId": "6c7e1f8e-a002-487f-c6f9-a63f23a035e1"
      },
      "outputs": [
        {
          "output_type": "stream",
          "name": "stdout",
          "text": [
            "Model: \"Resnet50\"\n",
            "__________________________________________________________________________________________________\n",
            " Layer (type)                   Output Shape         Param #     Connected to                     \n",
            "==================================================================================================\n",
            " input_3 (InputLayer)           [(None, 150, 150, 3  0           []                               \n",
            "                                )]                                                                \n",
            "                                                                                                  \n",
            " zero_padding2d_2 (ZeroPadding2  (None, 156, 156, 3)  0          ['input_3[0][0]']                \n",
            " D)                                                                                               \n",
            "                                                                                                  \n",
            " conv2d_106 (Conv2D)            (None, 75, 75, 64)   9472        ['zero_padding2d_2[0][0]']       \n",
            "                                                                                                  \n",
            " batch_normalization_106 (Batch  (None, 75, 75, 64)  256         ['conv2d_106[0][0]']             \n",
            " Normalization)                                                                                   \n",
            "                                                                                                  \n",
            " activation_98 (Activation)     (None, 75, 75, 64)   0           ['batch_normalization_106[0][0]']\n",
            "                                                                                                  \n",
            " max_pooling2d_2 (MaxPooling2D)  (None, 37, 37, 64)  0           ['activation_98[0][0]']          \n",
            "                                                                                                  \n",
            " conv2d_107 (Conv2D)            (None, 37, 37, 64)   4160        ['max_pooling2d_2[0][0]']        \n",
            "                                                                                                  \n",
            " batch_normalization_107 (Batch  (None, 37, 37, 64)  256         ['conv2d_107[0][0]']             \n",
            " Normalization)                                                                                   \n",
            "                                                                                                  \n",
            " activation_99 (Activation)     (None, 37, 37, 64)   0           ['batch_normalization_107[0][0]']\n",
            "                                                                                                  \n",
            " conv2d_108 (Conv2D)            (None, 37, 37, 64)   36928       ['activation_99[0][0]']          \n",
            "                                                                                                  \n",
            " batch_normalization_108 (Batch  (None, 37, 37, 64)  256         ['conv2d_108[0][0]']             \n",
            " Normalization)                                                                                   \n",
            "                                                                                                  \n",
            " activation_100 (Activation)    (None, 37, 37, 64)   0           ['batch_normalization_108[0][0]']\n",
            "                                                                                                  \n",
            " conv2d_109 (Conv2D)            (None, 37, 37, 256)  16640       ['activation_100[0][0]']         \n",
            "                                                                                                  \n",
            " conv2d_110 (Conv2D)            (None, 37, 37, 256)  16640       ['max_pooling2d_2[0][0]']        \n",
            "                                                                                                  \n",
            " batch_normalization_109 (Batch  (None, 37, 37, 256)  1024       ['conv2d_109[0][0]']             \n",
            " Normalization)                                                                                   \n",
            "                                                                                                  \n",
            " batch_normalization_110 (Batch  (None, 37, 37, 256)  1024       ['conv2d_110[0][0]']             \n",
            " Normalization)                                                                                   \n",
            "                                                                                                  \n",
            " add_32 (Add)                   (None, 37, 37, 256)  0           ['batch_normalization_109[0][0]',\n",
            "                                                                  'batch_normalization_110[0][0]']\n",
            "                                                                                                  \n",
            " activation_101 (Activation)    (None, 37, 37, 256)  0           ['add_32[0][0]']                 \n",
            "                                                                                                  \n",
            " conv2d_111 (Conv2D)            (None, 37, 37, 64)   16448       ['activation_101[0][0]']         \n",
            "                                                                                                  \n",
            " batch_normalization_111 (Batch  (None, 37, 37, 64)  256         ['conv2d_111[0][0]']             \n",
            " Normalization)                                                                                   \n",
            "                                                                                                  \n",
            " activation_102 (Activation)    (None, 37, 37, 64)   0           ['batch_normalization_111[0][0]']\n",
            "                                                                                                  \n",
            " conv2d_112 (Conv2D)            (None, 37, 37, 64)   36928       ['activation_102[0][0]']         \n",
            "                                                                                                  \n",
            " batch_normalization_112 (Batch  (None, 37, 37, 64)  256         ['conv2d_112[0][0]']             \n",
            " Normalization)                                                                                   \n",
            "                                                                                                  \n",
            " activation_103 (Activation)    (None, 37, 37, 64)   0           ['batch_normalization_112[0][0]']\n",
            "                                                                                                  \n",
            " conv2d_113 (Conv2D)            (None, 37, 37, 256)  16640       ['activation_103[0][0]']         \n",
            "                                                                                                  \n",
            " batch_normalization_113 (Batch  (None, 37, 37, 256)  1024       ['conv2d_113[0][0]']             \n",
            " Normalization)                                                                                   \n",
            "                                                                                                  \n",
            " add_33 (Add)                   (None, 37, 37, 256)  0           ['batch_normalization_113[0][0]',\n",
            "                                                                  'activation_101[0][0]']         \n",
            "                                                                                                  \n",
            " activation_104 (Activation)    (None, 37, 37, 256)  0           ['add_33[0][0]']                 \n",
            "                                                                                                  \n",
            " conv2d_114 (Conv2D)            (None, 37, 37, 64)   16448       ['activation_104[0][0]']         \n",
            "                                                                                                  \n",
            " batch_normalization_114 (Batch  (None, 37, 37, 64)  256         ['conv2d_114[0][0]']             \n",
            " Normalization)                                                                                   \n",
            "                                                                                                  \n",
            " activation_105 (Activation)    (None, 37, 37, 64)   0           ['batch_normalization_114[0][0]']\n",
            "                                                                                                  \n",
            " conv2d_115 (Conv2D)            (None, 37, 37, 64)   36928       ['activation_105[0][0]']         \n",
            "                                                                                                  \n",
            " batch_normalization_115 (Batch  (None, 37, 37, 64)  256         ['conv2d_115[0][0]']             \n",
            " Normalization)                                                                                   \n",
            "                                                                                                  \n",
            " activation_106 (Activation)    (None, 37, 37, 64)   0           ['batch_normalization_115[0][0]']\n",
            "                                                                                                  \n",
            " conv2d_116 (Conv2D)            (None, 37, 37, 256)  16640       ['activation_106[0][0]']         \n",
            "                                                                                                  \n",
            " batch_normalization_116 (Batch  (None, 37, 37, 256)  1024       ['conv2d_116[0][0]']             \n",
            " Normalization)                                                                                   \n",
            "                                                                                                  \n",
            " add_34 (Add)                   (None, 37, 37, 256)  0           ['batch_normalization_116[0][0]',\n",
            "                                                                  'activation_104[0][0]']         \n",
            "                                                                                                  \n",
            " activation_107 (Activation)    (None, 37, 37, 256)  0           ['add_34[0][0]']                 \n",
            "                                                                                                  \n",
            " conv2d_117 (Conv2D)            (None, 19, 19, 128)  32896       ['activation_107[0][0]']         \n",
            "                                                                                                  \n",
            " batch_normalization_117 (Batch  (None, 19, 19, 128)  512        ['conv2d_117[0][0]']             \n",
            " Normalization)                                                                                   \n",
            "                                                                                                  \n",
            " activation_108 (Activation)    (None, 19, 19, 128)  0           ['batch_normalization_117[0][0]']\n",
            "                                                                                                  \n",
            " conv2d_118 (Conv2D)            (None, 19, 19, 128)  147584      ['activation_108[0][0]']         \n",
            "                                                                                                  \n",
            " batch_normalization_118 (Batch  (None, 19, 19, 128)  512        ['conv2d_118[0][0]']             \n",
            " Normalization)                                                                                   \n",
            "                                                                                                  \n",
            " activation_109 (Activation)    (None, 19, 19, 128)  0           ['batch_normalization_118[0][0]']\n",
            "                                                                                                  \n",
            " conv2d_119 (Conv2D)            (None, 19, 19, 512)  66048       ['activation_109[0][0]']         \n",
            "                                                                                                  \n",
            " conv2d_120 (Conv2D)            (None, 19, 19, 512)  131584      ['activation_107[0][0]']         \n",
            "                                                                                                  \n",
            " batch_normalization_119 (Batch  (None, 19, 19, 512)  2048       ['conv2d_119[0][0]']             \n",
            " Normalization)                                                                                   \n",
            "                                                                                                  \n",
            " batch_normalization_120 (Batch  (None, 19, 19, 512)  2048       ['conv2d_120[0][0]']             \n",
            " Normalization)                                                                                   \n",
            "                                                                                                  \n",
            " add_35 (Add)                   (None, 19, 19, 512)  0           ['batch_normalization_119[0][0]',\n",
            "                                                                  'batch_normalization_120[0][0]']\n",
            "                                                                                                  \n",
            " activation_110 (Activation)    (None, 19, 19, 512)  0           ['add_35[0][0]']                 \n",
            "                                                                                                  \n",
            " conv2d_121 (Conv2D)            (None, 19, 19, 128)  65664       ['activation_110[0][0]']         \n",
            "                                                                                                  \n",
            " batch_normalization_121 (Batch  (None, 19, 19, 128)  512        ['conv2d_121[0][0]']             \n",
            " Normalization)                                                                                   \n",
            "                                                                                                  \n",
            " activation_111 (Activation)    (None, 19, 19, 128)  0           ['batch_normalization_121[0][0]']\n",
            "                                                                                                  \n",
            " conv2d_122 (Conv2D)            (None, 19, 19, 128)  147584      ['activation_111[0][0]']         \n",
            "                                                                                                  \n",
            " batch_normalization_122 (Batch  (None, 19, 19, 128)  512        ['conv2d_122[0][0]']             \n",
            " Normalization)                                                                                   \n",
            "                                                                                                  \n",
            " activation_112 (Activation)    (None, 19, 19, 128)  0           ['batch_normalization_122[0][0]']\n",
            "                                                                                                  \n",
            " conv2d_123 (Conv2D)            (None, 19, 19, 512)  66048       ['activation_112[0][0]']         \n",
            "                                                                                                  \n",
            " batch_normalization_123 (Batch  (None, 19, 19, 512)  2048       ['conv2d_123[0][0]']             \n",
            " Normalization)                                                                                   \n",
            "                                                                                                  \n",
            " add_36 (Add)                   (None, 19, 19, 512)  0           ['batch_normalization_123[0][0]',\n",
            "                                                                  'activation_110[0][0]']         \n",
            "                                                                                                  \n",
            " activation_113 (Activation)    (None, 19, 19, 512)  0           ['add_36[0][0]']                 \n",
            "                                                                                                  \n",
            " conv2d_124 (Conv2D)            (None, 19, 19, 128)  65664       ['activation_113[0][0]']         \n",
            "                                                                                                  \n",
            " batch_normalization_124 (Batch  (None, 19, 19, 128)  512        ['conv2d_124[0][0]']             \n",
            " Normalization)                                                                                   \n",
            "                                                                                                  \n",
            " activation_114 (Activation)    (None, 19, 19, 128)  0           ['batch_normalization_124[0][0]']\n",
            "                                                                                                  \n",
            " conv2d_125 (Conv2D)            (None, 19, 19, 128)  147584      ['activation_114[0][0]']         \n",
            "                                                                                                  \n",
            " batch_normalization_125 (Batch  (None, 19, 19, 128)  512        ['conv2d_125[0][0]']             \n",
            " Normalization)                                                                                   \n",
            "                                                                                                  \n",
            " activation_115 (Activation)    (None, 19, 19, 128)  0           ['batch_normalization_125[0][0]']\n",
            "                                                                                                  \n",
            " conv2d_126 (Conv2D)            (None, 19, 19, 512)  66048       ['activation_115[0][0]']         \n",
            "                                                                                                  \n",
            " batch_normalization_126 (Batch  (None, 19, 19, 512)  2048       ['conv2d_126[0][0]']             \n",
            " Normalization)                                                                                   \n",
            "                                                                                                  \n",
            " add_37 (Add)                   (None, 19, 19, 512)  0           ['batch_normalization_126[0][0]',\n",
            "                                                                  'activation_113[0][0]']         \n",
            "                                                                                                  \n",
            " activation_116 (Activation)    (None, 19, 19, 512)  0           ['add_37[0][0]']                 \n",
            "                                                                                                  \n",
            " conv2d_127 (Conv2D)            (None, 19, 19, 128)  65664       ['activation_116[0][0]']         \n",
            "                                                                                                  \n",
            " batch_normalization_127 (Batch  (None, 19, 19, 128)  512        ['conv2d_127[0][0]']             \n",
            " Normalization)                                                                                   \n",
            "                                                                                                  \n",
            " activation_117 (Activation)    (None, 19, 19, 128)  0           ['batch_normalization_127[0][0]']\n",
            "                                                                                                  \n",
            " conv2d_128 (Conv2D)            (None, 19, 19, 128)  147584      ['activation_117[0][0]']         \n",
            "                                                                                                  \n",
            " batch_normalization_128 (Batch  (None, 19, 19, 128)  512        ['conv2d_128[0][0]']             \n",
            " Normalization)                                                                                   \n",
            "                                                                                                  \n",
            " activation_118 (Activation)    (None, 19, 19, 128)  0           ['batch_normalization_128[0][0]']\n",
            "                                                                                                  \n",
            " conv2d_129 (Conv2D)            (None, 19, 19, 512)  66048       ['activation_118[0][0]']         \n",
            "                                                                                                  \n",
            " batch_normalization_129 (Batch  (None, 19, 19, 512)  2048       ['conv2d_129[0][0]']             \n",
            " Normalization)                                                                                   \n",
            "                                                                                                  \n",
            " add_38 (Add)                   (None, 19, 19, 512)  0           ['batch_normalization_129[0][0]',\n",
            "                                                                  'activation_116[0][0]']         \n",
            "                                                                                                  \n",
            " activation_119 (Activation)    (None, 19, 19, 512)  0           ['add_38[0][0]']                 \n",
            "                                                                                                  \n",
            " conv2d_130 (Conv2D)            (None, 10, 10, 256)  131328      ['activation_119[0][0]']         \n",
            "                                                                                                  \n",
            " batch_normalization_130 (Batch  (None, 10, 10, 256)  1024       ['conv2d_130[0][0]']             \n",
            " Normalization)                                                                                   \n",
            "                                                                                                  \n",
            " activation_120 (Activation)    (None, 10, 10, 256)  0           ['batch_normalization_130[0][0]']\n",
            "                                                                                                  \n",
            " conv2d_131 (Conv2D)            (None, 10, 10, 256)  590080      ['activation_120[0][0]']         \n",
            "                                                                                                  \n",
            " batch_normalization_131 (Batch  (None, 10, 10, 256)  1024       ['conv2d_131[0][0]']             \n",
            " Normalization)                                                                                   \n",
            "                                                                                                  \n",
            " activation_121 (Activation)    (None, 10, 10, 256)  0           ['batch_normalization_131[0][0]']\n",
            "                                                                                                  \n",
            " conv2d_132 (Conv2D)            (None, 10, 10, 1024  263168      ['activation_121[0][0]']         \n",
            "                                )                                                                 \n",
            "                                                                                                  \n",
            " conv2d_133 (Conv2D)            (None, 10, 10, 1024  525312      ['activation_119[0][0]']         \n",
            "                                )                                                                 \n",
            "                                                                                                  \n",
            " batch_normalization_132 (Batch  (None, 10, 10, 1024  4096       ['conv2d_132[0][0]']             \n",
            " Normalization)                 )                                                                 \n",
            "                                                                                                  \n",
            " batch_normalization_133 (Batch  (None, 10, 10, 1024  4096       ['conv2d_133[0][0]']             \n",
            " Normalization)                 )                                                                 \n",
            "                                                                                                  \n",
            " add_39 (Add)                   (None, 10, 10, 1024  0           ['batch_normalization_132[0][0]',\n",
            "                                )                                 'batch_normalization_133[0][0]']\n",
            "                                                                                                  \n",
            " activation_122 (Activation)    (None, 10, 10, 1024  0           ['add_39[0][0]']                 \n",
            "                                )                                                                 \n",
            "                                                                                                  \n",
            " conv2d_134 (Conv2D)            (None, 10, 10, 256)  262400      ['activation_122[0][0]']         \n",
            "                                                                                                  \n",
            " batch_normalization_134 (Batch  (None, 10, 10, 256)  1024       ['conv2d_134[0][0]']             \n",
            " Normalization)                                                                                   \n",
            "                                                                                                  \n",
            " activation_123 (Activation)    (None, 10, 10, 256)  0           ['batch_normalization_134[0][0]']\n",
            "                                                                                                  \n",
            " conv2d_135 (Conv2D)            (None, 10, 10, 256)  590080      ['activation_123[0][0]']         \n",
            "                                                                                                  \n",
            " batch_normalization_135 (Batch  (None, 10, 10, 256)  1024       ['conv2d_135[0][0]']             \n",
            " Normalization)                                                                                   \n",
            "                                                                                                  \n",
            " activation_124 (Activation)    (None, 10, 10, 256)  0           ['batch_normalization_135[0][0]']\n",
            "                                                                                                  \n",
            " conv2d_136 (Conv2D)            (None, 10, 10, 1024  263168      ['activation_124[0][0]']         \n",
            "                                )                                                                 \n",
            "                                                                                                  \n",
            " batch_normalization_136 (Batch  (None, 10, 10, 1024  4096       ['conv2d_136[0][0]']             \n",
            " Normalization)                 )                                                                 \n",
            "                                                                                                  \n",
            " add_40 (Add)                   (None, 10, 10, 1024  0           ['batch_normalization_136[0][0]',\n",
            "                                )                                 'activation_122[0][0]']         \n",
            "                                                                                                  \n",
            " activation_125 (Activation)    (None, 10, 10, 1024  0           ['add_40[0][0]']                 \n",
            "                                )                                                                 \n",
            "                                                                                                  \n",
            " conv2d_137 (Conv2D)            (None, 10, 10, 256)  262400      ['activation_125[0][0]']         \n",
            "                                                                                                  \n",
            " batch_normalization_137 (Batch  (None, 10, 10, 256)  1024       ['conv2d_137[0][0]']             \n",
            " Normalization)                                                                                   \n",
            "                                                                                                  \n",
            " activation_126 (Activation)    (None, 10, 10, 256)  0           ['batch_normalization_137[0][0]']\n",
            "                                                                                                  \n",
            " conv2d_138 (Conv2D)            (None, 10, 10, 256)  590080      ['activation_126[0][0]']         \n",
            "                                                                                                  \n",
            " batch_normalization_138 (Batch  (None, 10, 10, 256)  1024       ['conv2d_138[0][0]']             \n",
            " Normalization)                                                                                   \n",
            "                                                                                                  \n",
            " activation_127 (Activation)    (None, 10, 10, 256)  0           ['batch_normalization_138[0][0]']\n",
            "                                                                                                  \n",
            " conv2d_139 (Conv2D)            (None, 10, 10, 1024  263168      ['activation_127[0][0]']         \n",
            "                                )                                                                 \n",
            "                                                                                                  \n",
            " batch_normalization_139 (Batch  (None, 10, 10, 1024  4096       ['conv2d_139[0][0]']             \n",
            " Normalization)                 )                                                                 \n",
            "                                                                                                  \n",
            " add_41 (Add)                   (None, 10, 10, 1024  0           ['batch_normalization_139[0][0]',\n",
            "                                )                                 'activation_125[0][0]']         \n",
            "                                                                                                  \n",
            " activation_128 (Activation)    (None, 10, 10, 1024  0           ['add_41[0][0]']                 \n",
            "                                )                                                                 \n",
            "                                                                                                  \n",
            " conv2d_140 (Conv2D)            (None, 10, 10, 256)  262400      ['activation_128[0][0]']         \n",
            "                                                                                                  \n",
            " batch_normalization_140 (Batch  (None, 10, 10, 256)  1024       ['conv2d_140[0][0]']             \n",
            " Normalization)                                                                                   \n",
            "                                                                                                  \n",
            " activation_129 (Activation)    (None, 10, 10, 256)  0           ['batch_normalization_140[0][0]']\n",
            "                                                                                                  \n",
            " conv2d_141 (Conv2D)            (None, 10, 10, 256)  590080      ['activation_129[0][0]']         \n",
            "                                                                                                  \n",
            " batch_normalization_141 (Batch  (None, 10, 10, 256)  1024       ['conv2d_141[0][0]']             \n",
            " Normalization)                                                                                   \n",
            "                                                                                                  \n",
            " activation_130 (Activation)    (None, 10, 10, 256)  0           ['batch_normalization_141[0][0]']\n",
            "                                                                                                  \n",
            " conv2d_142 (Conv2D)            (None, 10, 10, 1024  263168      ['activation_130[0][0]']         \n",
            "                                )                                                                 \n",
            "                                                                                                  \n",
            " batch_normalization_142 (Batch  (None, 10, 10, 1024  4096       ['conv2d_142[0][0]']             \n",
            " Normalization)                 )                                                                 \n",
            "                                                                                                  \n",
            " add_42 (Add)                   (None, 10, 10, 1024  0           ['batch_normalization_142[0][0]',\n",
            "                                )                                 'activation_128[0][0]']         \n",
            "                                                                                                  \n",
            " activation_131 (Activation)    (None, 10, 10, 1024  0           ['add_42[0][0]']                 \n",
            "                                )                                                                 \n",
            "                                                                                                  \n",
            " conv2d_143 (Conv2D)            (None, 10, 10, 256)  262400      ['activation_131[0][0]']         \n",
            "                                                                                                  \n",
            " batch_normalization_143 (Batch  (None, 10, 10, 256)  1024       ['conv2d_143[0][0]']             \n",
            " Normalization)                                                                                   \n",
            "                                                                                                  \n",
            " activation_132 (Activation)    (None, 10, 10, 256)  0           ['batch_normalization_143[0][0]']\n",
            "                                                                                                  \n",
            " conv2d_144 (Conv2D)            (None, 10, 10, 256)  590080      ['activation_132[0][0]']         \n",
            "                                                                                                  \n",
            " batch_normalization_144 (Batch  (None, 10, 10, 256)  1024       ['conv2d_144[0][0]']             \n",
            " Normalization)                                                                                   \n",
            "                                                                                                  \n",
            " activation_133 (Activation)    (None, 10, 10, 256)  0           ['batch_normalization_144[0][0]']\n",
            "                                                                                                  \n",
            " conv2d_145 (Conv2D)            (None, 10, 10, 1024  263168      ['activation_133[0][0]']         \n",
            "                                )                                                                 \n",
            "                                                                                                  \n",
            " batch_normalization_145 (Batch  (None, 10, 10, 1024  4096       ['conv2d_145[0][0]']             \n",
            " Normalization)                 )                                                                 \n",
            "                                                                                                  \n",
            " add_43 (Add)                   (None, 10, 10, 1024  0           ['batch_normalization_145[0][0]',\n",
            "                                )                                 'activation_131[0][0]']         \n",
            "                                                                                                  \n",
            " activation_134 (Activation)    (None, 10, 10, 1024  0           ['add_43[0][0]']                 \n",
            "                                )                                                                 \n",
            "                                                                                                  \n",
            " conv2d_146 (Conv2D)            (None, 10, 10, 256)  262400      ['activation_134[0][0]']         \n",
            "                                                                                                  \n",
            " batch_normalization_146 (Batch  (None, 10, 10, 256)  1024       ['conv2d_146[0][0]']             \n",
            " Normalization)                                                                                   \n",
            "                                                                                                  \n",
            " activation_135 (Activation)    (None, 10, 10, 256)  0           ['batch_normalization_146[0][0]']\n",
            "                                                                                                  \n",
            " conv2d_147 (Conv2D)            (None, 10, 10, 256)  590080      ['activation_135[0][0]']         \n",
            "                                                                                                  \n",
            " batch_normalization_147 (Batch  (None, 10, 10, 256)  1024       ['conv2d_147[0][0]']             \n",
            " Normalization)                                                                                   \n",
            "                                                                                                  \n",
            " activation_136 (Activation)    (None, 10, 10, 256)  0           ['batch_normalization_147[0][0]']\n",
            "                                                                                                  \n",
            " conv2d_148 (Conv2D)            (None, 10, 10, 1024  263168      ['activation_136[0][0]']         \n",
            "                                )                                                                 \n",
            "                                                                                                  \n",
            " batch_normalization_148 (Batch  (None, 10, 10, 1024  4096       ['conv2d_148[0][0]']             \n",
            " Normalization)                 )                                                                 \n",
            "                                                                                                  \n",
            " add_44 (Add)                   (None, 10, 10, 1024  0           ['batch_normalization_148[0][0]',\n",
            "                                )                                 'activation_134[0][0]']         \n",
            "                                                                                                  \n",
            " activation_137 (Activation)    (None, 10, 10, 1024  0           ['add_44[0][0]']                 \n",
            "                                )                                                                 \n",
            "                                                                                                  \n",
            " conv2d_149 (Conv2D)            (None, 5, 5, 512)    524800      ['activation_137[0][0]']         \n",
            "                                                                                                  \n",
            " batch_normalization_149 (Batch  (None, 5, 5, 512)   2048        ['conv2d_149[0][0]']             \n",
            " Normalization)                                                                                   \n",
            "                                                                                                  \n",
            " activation_138 (Activation)    (None, 5, 5, 512)    0           ['batch_normalization_149[0][0]']\n",
            "                                                                                                  \n",
            " conv2d_150 (Conv2D)            (None, 5, 5, 512)    2359808     ['activation_138[0][0]']         \n",
            "                                                                                                  \n",
            " batch_normalization_150 (Batch  (None, 5, 5, 512)   2048        ['conv2d_150[0][0]']             \n",
            " Normalization)                                                                                   \n",
            "                                                                                                  \n",
            " activation_139 (Activation)    (None, 5, 5, 512)    0           ['batch_normalization_150[0][0]']\n",
            "                                                                                                  \n",
            " conv2d_151 (Conv2D)            (None, 5, 5, 2048)   1050624     ['activation_139[0][0]']         \n",
            "                                                                                                  \n",
            " conv2d_152 (Conv2D)            (None, 5, 5, 2048)   2099200     ['activation_137[0][0]']         \n",
            "                                                                                                  \n",
            " batch_normalization_151 (Batch  (None, 5, 5, 2048)  8192        ['conv2d_151[0][0]']             \n",
            " Normalization)                                                                                   \n",
            "                                                                                                  \n",
            " batch_normalization_152 (Batch  (None, 5, 5, 2048)  8192        ['conv2d_152[0][0]']             \n",
            " Normalization)                                                                                   \n",
            "                                                                                                  \n",
            " add_45 (Add)                   (None, 5, 5, 2048)   0           ['batch_normalization_151[0][0]',\n",
            "                                                                  'batch_normalization_152[0][0]']\n",
            "                                                                                                  \n",
            " activation_140 (Activation)    (None, 5, 5, 2048)   0           ['add_45[0][0]']                 \n",
            "                                                                                                  \n",
            " conv2d_153 (Conv2D)            (None, 5, 5, 512)    1049088     ['activation_140[0][0]']         \n",
            "                                                                                                  \n",
            " batch_normalization_153 (Batch  (None, 5, 5, 512)   2048        ['conv2d_153[0][0]']             \n",
            " Normalization)                                                                                   \n",
            "                                                                                                  \n",
            " activation_141 (Activation)    (None, 5, 5, 512)    0           ['batch_normalization_153[0][0]']\n",
            "                                                                                                  \n",
            " conv2d_154 (Conv2D)            (None, 5, 5, 512)    2359808     ['activation_141[0][0]']         \n",
            "                                                                                                  \n",
            " batch_normalization_154 (Batch  (None, 5, 5, 512)   2048        ['conv2d_154[0][0]']             \n",
            " Normalization)                                                                                   \n",
            "                                                                                                  \n",
            " activation_142 (Activation)    (None, 5, 5, 512)    0           ['batch_normalization_154[0][0]']\n",
            "                                                                                                  \n",
            " conv2d_155 (Conv2D)            (None, 5, 5, 2048)   1050624     ['activation_142[0][0]']         \n",
            "                                                                                                  \n",
            " batch_normalization_155 (Batch  (None, 5, 5, 2048)  8192        ['conv2d_155[0][0]']             \n",
            " Normalization)                                                                                   \n",
            "                                                                                                  \n",
            " add_46 (Add)                   (None, 5, 5, 2048)   0           ['batch_normalization_155[0][0]',\n",
            "                                                                  'activation_140[0][0]']         \n",
            "                                                                                                  \n",
            " activation_143 (Activation)    (None, 5, 5, 2048)   0           ['add_46[0][0]']                 \n",
            "                                                                                                  \n",
            " conv2d_156 (Conv2D)            (None, 5, 5, 512)    1049088     ['activation_143[0][0]']         \n",
            "                                                                                                  \n",
            " batch_normalization_156 (Batch  (None, 5, 5, 512)   2048        ['conv2d_156[0][0]']             \n",
            " Normalization)                                                                                   \n",
            "                                                                                                  \n",
            " activation_144 (Activation)    (None, 5, 5, 512)    0           ['batch_normalization_156[0][0]']\n",
            "                                                                                                  \n",
            " conv2d_157 (Conv2D)            (None, 5, 5, 512)    2359808     ['activation_144[0][0]']         \n",
            "                                                                                                  \n",
            " batch_normalization_157 (Batch  (None, 5, 5, 512)   2048        ['conv2d_157[0][0]']             \n",
            " Normalization)                                                                                   \n",
            "                                                                                                  \n",
            " activation_145 (Activation)    (None, 5, 5, 512)    0           ['batch_normalization_157[0][0]']\n",
            "                                                                                                  \n",
            " conv2d_158 (Conv2D)            (None, 5, 5, 2048)   1050624     ['activation_145[0][0]']         \n",
            "                                                                                                  \n",
            " batch_normalization_158 (Batch  (None, 5, 5, 2048)  8192        ['conv2d_158[0][0]']             \n",
            " Normalization)                                                                                   \n",
            "                                                                                                  \n",
            " add_47 (Add)                   (None, 5, 5, 2048)   0           ['batch_normalization_158[0][0]',\n",
            "                                                                  'activation_143[0][0]']         \n",
            "                                                                                                  \n",
            " activation_146 (Activation)    (None, 5, 5, 2048)   0           ['add_47[0][0]']                 \n",
            "                                                                                                  \n",
            " average_pooling2d_2 (AveragePo  (None, 3, 3, 2048)  0           ['activation_146[0][0]']         \n",
            " oling2D)                                                                                         \n",
            "                                                                                                  \n",
            " flatten_2 (Flatten)            (None, 18432)        0           ['average_pooling2d_2[0][0]']    \n",
            "                                                                                                  \n",
            " dense_2 (Dense)                (None, 1)            18433       ['flatten_2[0][0]']              \n",
            "                                                                                                  \n",
            "==================================================================================================\n",
            "Total params: 23,606,145\n",
            "Trainable params: 23,553,025\n",
            "Non-trainable params: 53,120\n",
            "__________________________________________________________________________________________________\n",
            "Epoch 1/200\n",
            "29/29 [==============================] - 110s 3s/step - loss: 19.0224 - acc: 0.5244\n",
            "Epoch 2/200\n",
            "29/29 [==============================] - 95s 3s/step - loss: 18.8148 - acc: 0.6267\n",
            "Epoch 3/200\n",
            "17/29 [================>.............] - ETA: 34s - loss: 18.7114 - acc: 0.6589"
          ]
        },
        {
          "output_type": "error",
          "ename": "KeyboardInterrupt",
          "evalue": "ignored",
          "traceback": [
            "\u001b[0;31m---------------------------------------------------------------------------\u001b[0m",
            "\u001b[0;31mKeyboardInterrupt\u001b[0m                         Traceback (most recent call last)",
            "\u001b[0;32m<ipython-input-15-d79b90d0c442>\u001b[0m in \u001b[0;36m<cell line: 144>\u001b[0;34m()\u001b[0m\n\u001b[1;32m    142\u001b[0m \t\t\t\t\t\tmetrics=['acc'])\n\u001b[1;32m    143\u001b[0m \u001b[0;34m\u001b[0m\u001b[0m\n\u001b[0;32m--> 144\u001b[0;31m history = model.fit(\n\u001b[0m\u001b[1;32m    145\u001b[0m                                                 \u001b[0mtrain_generator\u001b[0m\u001b[0;34m,\u001b[0m\u001b[0;34m\u001b[0m\u001b[0;34m\u001b[0m\u001b[0m\n\u001b[1;32m    146\u001b[0m \t\t\t\t\t\tepochs = 200)\n",
            "\u001b[0;32m/usr/local/lib/python3.10/dist-packages/keras/utils/traceback_utils.py\u001b[0m in \u001b[0;36merror_handler\u001b[0;34m(*args, **kwargs)\u001b[0m\n\u001b[1;32m     63\u001b[0m         \u001b[0mfiltered_tb\u001b[0m \u001b[0;34m=\u001b[0m \u001b[0;32mNone\u001b[0m\u001b[0;34m\u001b[0m\u001b[0;34m\u001b[0m\u001b[0m\n\u001b[1;32m     64\u001b[0m         \u001b[0;32mtry\u001b[0m\u001b[0;34m:\u001b[0m\u001b[0;34m\u001b[0m\u001b[0;34m\u001b[0m\u001b[0m\n\u001b[0;32m---> 65\u001b[0;31m             \u001b[0;32mreturn\u001b[0m \u001b[0mfn\u001b[0m\u001b[0;34m(\u001b[0m\u001b[0;34m*\u001b[0m\u001b[0margs\u001b[0m\u001b[0;34m,\u001b[0m \u001b[0;34m**\u001b[0m\u001b[0mkwargs\u001b[0m\u001b[0;34m)\u001b[0m\u001b[0;34m\u001b[0m\u001b[0;34m\u001b[0m\u001b[0m\n\u001b[0m\u001b[1;32m     66\u001b[0m         \u001b[0;32mexcept\u001b[0m \u001b[0mException\u001b[0m \u001b[0;32mas\u001b[0m \u001b[0me\u001b[0m\u001b[0;34m:\u001b[0m\u001b[0;34m\u001b[0m\u001b[0;34m\u001b[0m\u001b[0m\n\u001b[1;32m     67\u001b[0m             \u001b[0mfiltered_tb\u001b[0m \u001b[0;34m=\u001b[0m \u001b[0m_process_traceback_frames\u001b[0m\u001b[0;34m(\u001b[0m\u001b[0me\u001b[0m\u001b[0;34m.\u001b[0m\u001b[0m__traceback__\u001b[0m\u001b[0;34m)\u001b[0m\u001b[0;34m\u001b[0m\u001b[0;34m\u001b[0m\u001b[0m\n",
            "\u001b[0;32m/usr/local/lib/python3.10/dist-packages/keras/engine/training.py\u001b[0m in \u001b[0;36mfit\u001b[0;34m(self, x, y, batch_size, epochs, verbose, callbacks, validation_split, validation_data, shuffle, class_weight, sample_weight, initial_epoch, steps_per_epoch, validation_steps, validation_batch_size, validation_freq, max_queue_size, workers, use_multiprocessing)\u001b[0m\n\u001b[1;32m   1683\u001b[0m                         ):\n\u001b[1;32m   1684\u001b[0m                             \u001b[0mcallbacks\u001b[0m\u001b[0;34m.\u001b[0m\u001b[0mon_train_batch_begin\u001b[0m\u001b[0;34m(\u001b[0m\u001b[0mstep\u001b[0m\u001b[0;34m)\u001b[0m\u001b[0;34m\u001b[0m\u001b[0;34m\u001b[0m\u001b[0m\n\u001b[0;32m-> 1685\u001b[0;31m                             \u001b[0mtmp_logs\u001b[0m \u001b[0;34m=\u001b[0m \u001b[0mself\u001b[0m\u001b[0;34m.\u001b[0m\u001b[0mtrain_function\u001b[0m\u001b[0;34m(\u001b[0m\u001b[0miterator\u001b[0m\u001b[0;34m)\u001b[0m\u001b[0;34m\u001b[0m\u001b[0;34m\u001b[0m\u001b[0m\n\u001b[0m\u001b[1;32m   1686\u001b[0m                             \u001b[0;32mif\u001b[0m \u001b[0mdata_handler\u001b[0m\u001b[0;34m.\u001b[0m\u001b[0mshould_sync\u001b[0m\u001b[0;34m:\u001b[0m\u001b[0;34m\u001b[0m\u001b[0;34m\u001b[0m\u001b[0m\n\u001b[1;32m   1687\u001b[0m                                 \u001b[0mcontext\u001b[0m\u001b[0;34m.\u001b[0m\u001b[0masync_wait\u001b[0m\u001b[0;34m(\u001b[0m\u001b[0;34m)\u001b[0m\u001b[0;34m\u001b[0m\u001b[0;34m\u001b[0m\u001b[0m\n",
            "\u001b[0;32m/usr/local/lib/python3.10/dist-packages/tensorflow/python/util/traceback_utils.py\u001b[0m in \u001b[0;36merror_handler\u001b[0;34m(*args, **kwargs)\u001b[0m\n\u001b[1;32m    148\u001b[0m     \u001b[0mfiltered_tb\u001b[0m \u001b[0;34m=\u001b[0m \u001b[0;32mNone\u001b[0m\u001b[0;34m\u001b[0m\u001b[0;34m\u001b[0m\u001b[0m\n\u001b[1;32m    149\u001b[0m     \u001b[0;32mtry\u001b[0m\u001b[0;34m:\u001b[0m\u001b[0;34m\u001b[0m\u001b[0;34m\u001b[0m\u001b[0m\n\u001b[0;32m--> 150\u001b[0;31m       \u001b[0;32mreturn\u001b[0m \u001b[0mfn\u001b[0m\u001b[0;34m(\u001b[0m\u001b[0;34m*\u001b[0m\u001b[0margs\u001b[0m\u001b[0;34m,\u001b[0m \u001b[0;34m**\u001b[0m\u001b[0mkwargs\u001b[0m\u001b[0;34m)\u001b[0m\u001b[0;34m\u001b[0m\u001b[0;34m\u001b[0m\u001b[0m\n\u001b[0m\u001b[1;32m    151\u001b[0m     \u001b[0;32mexcept\u001b[0m \u001b[0mException\u001b[0m \u001b[0;32mas\u001b[0m \u001b[0me\u001b[0m\u001b[0;34m:\u001b[0m\u001b[0;34m\u001b[0m\u001b[0;34m\u001b[0m\u001b[0m\n\u001b[1;32m    152\u001b[0m       \u001b[0mfiltered_tb\u001b[0m \u001b[0;34m=\u001b[0m \u001b[0m_process_traceback_frames\u001b[0m\u001b[0;34m(\u001b[0m\u001b[0me\u001b[0m\u001b[0;34m.\u001b[0m\u001b[0m__traceback__\u001b[0m\u001b[0;34m)\u001b[0m\u001b[0;34m\u001b[0m\u001b[0;34m\u001b[0m\u001b[0m\n",
            "\u001b[0;32m/usr/local/lib/python3.10/dist-packages/tensorflow/python/eager/polymorphic_function/polymorphic_function.py\u001b[0m in \u001b[0;36m__call__\u001b[0;34m(self, *args, **kwds)\u001b[0m\n\u001b[1;32m    892\u001b[0m \u001b[0;34m\u001b[0m\u001b[0m\n\u001b[1;32m    893\u001b[0m       \u001b[0;32mwith\u001b[0m \u001b[0mOptionalXlaContext\u001b[0m\u001b[0;34m(\u001b[0m\u001b[0mself\u001b[0m\u001b[0;34m.\u001b[0m\u001b[0m_jit_compile\u001b[0m\u001b[0;34m)\u001b[0m\u001b[0;34m:\u001b[0m\u001b[0;34m\u001b[0m\u001b[0;34m\u001b[0m\u001b[0m\n\u001b[0;32m--> 894\u001b[0;31m         \u001b[0mresult\u001b[0m \u001b[0;34m=\u001b[0m \u001b[0mself\u001b[0m\u001b[0;34m.\u001b[0m\u001b[0m_call\u001b[0m\u001b[0;34m(\u001b[0m\u001b[0;34m*\u001b[0m\u001b[0margs\u001b[0m\u001b[0;34m,\u001b[0m \u001b[0;34m**\u001b[0m\u001b[0mkwds\u001b[0m\u001b[0;34m)\u001b[0m\u001b[0;34m\u001b[0m\u001b[0;34m\u001b[0m\u001b[0m\n\u001b[0m\u001b[1;32m    895\u001b[0m \u001b[0;34m\u001b[0m\u001b[0m\n\u001b[1;32m    896\u001b[0m       \u001b[0mnew_tracing_count\u001b[0m \u001b[0;34m=\u001b[0m \u001b[0mself\u001b[0m\u001b[0;34m.\u001b[0m\u001b[0mexperimental_get_tracing_count\u001b[0m\u001b[0;34m(\u001b[0m\u001b[0;34m)\u001b[0m\u001b[0;34m\u001b[0m\u001b[0;34m\u001b[0m\u001b[0m\n",
            "\u001b[0;32m/usr/local/lib/python3.10/dist-packages/tensorflow/python/eager/polymorphic_function/polymorphic_function.py\u001b[0m in \u001b[0;36m_call\u001b[0;34m(self, *args, **kwds)\u001b[0m\n\u001b[1;32m    924\u001b[0m       \u001b[0;31m# In this case we have created variables on the first call, so we run the\u001b[0m\u001b[0;34m\u001b[0m\u001b[0;34m\u001b[0m\u001b[0m\n\u001b[1;32m    925\u001b[0m       \u001b[0;31m# defunned version which is guaranteed to never create variables.\u001b[0m\u001b[0;34m\u001b[0m\u001b[0;34m\u001b[0m\u001b[0m\n\u001b[0;32m--> 926\u001b[0;31m       \u001b[0;32mreturn\u001b[0m \u001b[0mself\u001b[0m\u001b[0;34m.\u001b[0m\u001b[0m_no_variable_creation_fn\u001b[0m\u001b[0;34m(\u001b[0m\u001b[0;34m*\u001b[0m\u001b[0margs\u001b[0m\u001b[0;34m,\u001b[0m \u001b[0;34m**\u001b[0m\u001b[0mkwds\u001b[0m\u001b[0;34m)\u001b[0m  \u001b[0;31m# pylint: disable=not-callable\u001b[0m\u001b[0;34m\u001b[0m\u001b[0;34m\u001b[0m\u001b[0m\n\u001b[0m\u001b[1;32m    927\u001b[0m     \u001b[0;32melif\u001b[0m \u001b[0mself\u001b[0m\u001b[0;34m.\u001b[0m\u001b[0m_variable_creation_fn\u001b[0m \u001b[0;32mis\u001b[0m \u001b[0;32mnot\u001b[0m \u001b[0;32mNone\u001b[0m\u001b[0;34m:\u001b[0m\u001b[0;34m\u001b[0m\u001b[0;34m\u001b[0m\u001b[0m\n\u001b[1;32m    928\u001b[0m       \u001b[0;31m# Release the lock early so that multiple threads can perform the call\u001b[0m\u001b[0;34m\u001b[0m\u001b[0;34m\u001b[0m\u001b[0m\n",
            "\u001b[0;32m/usr/local/lib/python3.10/dist-packages/tensorflow/python/eager/polymorphic_function/tracing_compiler.py\u001b[0m in \u001b[0;36m__call__\u001b[0;34m(self, *args, **kwargs)\u001b[0m\n\u001b[1;32m    141\u001b[0m       (concrete_function,\n\u001b[1;32m    142\u001b[0m        filtered_flat_args) = self._maybe_define_function(args, kwargs)\n\u001b[0;32m--> 143\u001b[0;31m     return concrete_function._call_flat(\n\u001b[0m\u001b[1;32m    144\u001b[0m         filtered_flat_args, captured_inputs=concrete_function.captured_inputs)  # pylint: disable=protected-access\n\u001b[1;32m    145\u001b[0m \u001b[0;34m\u001b[0m\u001b[0m\n",
            "\u001b[0;32m/usr/local/lib/python3.10/dist-packages/tensorflow/python/eager/polymorphic_function/monomorphic_function.py\u001b[0m in \u001b[0;36m_call_flat\u001b[0;34m(self, args, captured_inputs, cancellation_manager)\u001b[0m\n\u001b[1;32m   1755\u001b[0m         and executing_eagerly):\n\u001b[1;32m   1756\u001b[0m       \u001b[0;31m# No tape is watching; skip to running the function.\u001b[0m\u001b[0;34m\u001b[0m\u001b[0;34m\u001b[0m\u001b[0m\n\u001b[0;32m-> 1757\u001b[0;31m       return self._build_call_outputs(self._inference_function.call(\n\u001b[0m\u001b[1;32m   1758\u001b[0m           ctx, args, cancellation_manager=cancellation_manager))\n\u001b[1;32m   1759\u001b[0m     forward_backward = self._select_forward_and_backward_functions(\n",
            "\u001b[0;32m/usr/local/lib/python3.10/dist-packages/tensorflow/python/eager/polymorphic_function/monomorphic_function.py\u001b[0m in \u001b[0;36mcall\u001b[0;34m(self, ctx, args, cancellation_manager)\u001b[0m\n\u001b[1;32m    379\u001b[0m       \u001b[0;32mwith\u001b[0m \u001b[0m_InterpolateFunctionError\u001b[0m\u001b[0;34m(\u001b[0m\u001b[0mself\u001b[0m\u001b[0;34m)\u001b[0m\u001b[0;34m:\u001b[0m\u001b[0;34m\u001b[0m\u001b[0;34m\u001b[0m\u001b[0m\n\u001b[1;32m    380\u001b[0m         \u001b[0;32mif\u001b[0m \u001b[0mcancellation_manager\u001b[0m \u001b[0;32mis\u001b[0m \u001b[0;32mNone\u001b[0m\u001b[0;34m:\u001b[0m\u001b[0;34m\u001b[0m\u001b[0;34m\u001b[0m\u001b[0m\n\u001b[0;32m--> 381\u001b[0;31m           outputs = execute.execute(\n\u001b[0m\u001b[1;32m    382\u001b[0m               \u001b[0mstr\u001b[0m\u001b[0;34m(\u001b[0m\u001b[0mself\u001b[0m\u001b[0;34m.\u001b[0m\u001b[0msignature\u001b[0m\u001b[0;34m.\u001b[0m\u001b[0mname\u001b[0m\u001b[0;34m)\u001b[0m\u001b[0;34m,\u001b[0m\u001b[0;34m\u001b[0m\u001b[0;34m\u001b[0m\u001b[0m\n\u001b[1;32m    383\u001b[0m               \u001b[0mnum_outputs\u001b[0m\u001b[0;34m=\u001b[0m\u001b[0mself\u001b[0m\u001b[0;34m.\u001b[0m\u001b[0m_num_outputs\u001b[0m\u001b[0;34m,\u001b[0m\u001b[0;34m\u001b[0m\u001b[0;34m\u001b[0m\u001b[0m\n",
            "\u001b[0;32m/usr/local/lib/python3.10/dist-packages/tensorflow/python/eager/execute.py\u001b[0m in \u001b[0;36mquick_execute\u001b[0;34m(op_name, num_outputs, inputs, attrs, ctx, name)\u001b[0m\n\u001b[1;32m     50\u001b[0m   \u001b[0;32mtry\u001b[0m\u001b[0;34m:\u001b[0m\u001b[0;34m\u001b[0m\u001b[0;34m\u001b[0m\u001b[0m\n\u001b[1;32m     51\u001b[0m     \u001b[0mctx\u001b[0m\u001b[0;34m.\u001b[0m\u001b[0mensure_initialized\u001b[0m\u001b[0;34m(\u001b[0m\u001b[0;34m)\u001b[0m\u001b[0;34m\u001b[0m\u001b[0;34m\u001b[0m\u001b[0m\n\u001b[0;32m---> 52\u001b[0;31m     tensors = pywrap_tfe.TFE_Py_Execute(ctx._handle, device_name, op_name,\n\u001b[0m\u001b[1;32m     53\u001b[0m                                         inputs, attrs, num_outputs)\n\u001b[1;32m     54\u001b[0m   \u001b[0;32mexcept\u001b[0m \u001b[0mcore\u001b[0m\u001b[0;34m.\u001b[0m\u001b[0m_NotOkStatusException\u001b[0m \u001b[0;32mas\u001b[0m \u001b[0me\u001b[0m\u001b[0;34m:\u001b[0m\u001b[0;34m\u001b[0m\u001b[0;34m\u001b[0m\u001b[0m\n",
            "\u001b[0;31mKeyboardInterrupt\u001b[0m: "
          ]
        }
      ],
      "source": [
        "from tensorflow.keras import optimizers, models, activations, layers, Model\n",
        "from tensorflow.keras.regularizers import l2\n",
        "from tensorflow.keras.layers import Input, ZeroPadding2D, Conv2D, Flatten, Dense, BatchNormalization, Activation, Add, MaxPooling2D, AveragePooling2D\n",
        "\"\"\"\t\t\t\t\t\t\n",
        "model = models.Sequential()\n",
        "model.add(layers.Conv2D(10, (3, 3), activation=\"relu\", input_shape = (150,150,3)))\n",
        "model.add(layers.Conv2D(10, (3, 3), activation=\"relu\"))\n",
        "model.add(layers.Flatten())\n",
        "model.add(layers.Dense(256,activation='relu'))\n",
        "model.add(layers.Dense(128,activation='relu'))\n",
        "model.add(layers.Dense(1,activation='sigmoid'))\n",
        "\"\"\"\n",
        "\n",
        "\n",
        "def res_identity(x, filters): \n",
        "    #renet block where dimension doesnot change.\n",
        "    #The skip connection is just simple identity conncection\n",
        "    #we will have 3 blocks and then input will be added\n",
        "\n",
        "    x_skip = x # this will be used for addition with the residual block \n",
        "    f1, f2 = filters\n",
        "\n",
        "    #first block \n",
        "    x = Conv2D(f1, kernel_size=(1, 1), strides=(1, 1), padding='valid', kernel_regularizer=l2(0.001))(x)\n",
        "    x = BatchNormalization()(x)\n",
        "    x = Activation(activations.relu)(x)\n",
        "\n",
        "    #second block # bottleneck (but size kept same with padding)\n",
        "    x = Conv2D(f1, kernel_size=(3, 3), strides=(1, 1), padding='same', kernel_regularizer=l2(0.001))(x)\n",
        "    x = BatchNormalization()(x)\n",
        "    x = Activation(activations.relu)(x)\n",
        "\n",
        "\t\t# third block activation used after adding the input\n",
        "    x = Conv2D(f2, kernel_size=(1, 1), strides=(1, 1), padding='valid', kernel_regularizer=l2(0.001))(x)\n",
        "    x = BatchNormalization()(x)\n",
        "\t\t# x = Activation(activations.relu)(x)\n",
        "\n",
        "\t\t# add the input \n",
        "    x = Add()([x, x_skip])\n",
        "    x = Activation(activations.relu)(x)\n",
        "\n",
        "    return x\n",
        "\n",
        "\n",
        "\n",
        "def res_conv(x, s, filters):\n",
        "\t\t'''\n",
        "\t\there the input size changes''' \n",
        "\t\tx_skip = x\n",
        "\t\tf1, f2 = filters\n",
        "\n",
        "\t\t# first block\n",
        "\t\tx = Conv2D(f1, kernel_size=(1, 1), strides=(s, s), padding='valid', kernel_regularizer=l2(0.001))(x)\n",
        "\t\t# when s = 2 then it is like downsizing the feature map\n",
        "\t\tx = BatchNormalization()(x)\n",
        "\t\tx = Activation(activations.relu)(x)\n",
        "\n",
        "\t\t# second block\n",
        "\t\tx = Conv2D(f1, kernel_size=(3, 3), strides=(1, 1), padding='same', kernel_regularizer=l2(0.001))(x)\n",
        "\t\tx = BatchNormalization()(x)\n",
        "\t\tx = Activation(activations.relu)(x)\n",
        "\n",
        "\t\t#third block\n",
        "\t\tx = Conv2D(f2, kernel_size=(1, 1), strides=(1, 1), padding='valid', kernel_regularizer=l2(0.001))(x)\n",
        "\t\tx = BatchNormalization()(x)\n",
        "\n",
        "\t\t# shortcut \n",
        "\t\tx_skip = Conv2D(f2, kernel_size=(1, 1), strides=(s, s), padding='valid', kernel_regularizer=l2(0.001))(x_skip)\n",
        "\t\tx_skip = BatchNormalization()(x_skip)\n",
        "\n",
        "\t\t# add \n",
        "\t\tx = Add()([x, x_skip])\n",
        "\t\tx = Activation(activations.relu)(x)\n",
        "\n",
        "\t\treturn x\n",
        "\n",
        "\n",
        "\n",
        "def resnet50():\n",
        "\n",
        "\t\t#input_im = Input(shape=(train_im.shape[1], train_im.shape[2], train_im.shape[3])) # cifar 10 images size\n",
        "\t\tinput_im = Input(shape=(150,150,3))\n",
        "\t\tx = ZeroPadding2D(padding=(3, 3))(input_im)\n",
        "\n",
        "\t\t# 1st stage\n",
        "\t\t# here we perform maxpooling, see the figure above\n",
        "\n",
        "\t\tx = Conv2D(64, kernel_size=(7, 7), strides=(2, 2))(x)\n",
        "\t\tx = BatchNormalization()(x)\n",
        "\t\tx = Activation(activations.relu)(x)\n",
        "\t\tx = MaxPooling2D((3, 3), strides=(2, 2))(x)\n",
        "\n",
        "\t\t#2nd stage \n",
        "\t\t# frm here on only conv block and identity block, no pooling\n",
        "\n",
        "\t\tx = res_conv(x, s=1, filters=(64, 256))\n",
        "\t\tx = res_identity(x, filters=(64, 256))\n",
        "\t\tx = res_identity(x, filters=(64, 256))\n",
        "\n",
        "\t\t# 3rd stage\n",
        "\n",
        "\t\tx = res_conv(x, s=2, filters=(128, 512))\n",
        "\t\tx = res_identity(x, filters=(128, 512))\n",
        "\t\tx = res_identity(x, filters=(128, 512))\n",
        "\t\tx = res_identity(x, filters=(128, 512))\n",
        "\n",
        "\t\t# 4th stage\n",
        "\n",
        "\t\tx = res_conv(x, s=2, filters=(256, 1024))\n",
        "\t\tx = res_identity(x, filters=(256, 1024))\n",
        "\t\tx = res_identity(x, filters=(256, 1024))\n",
        "\t\tx = res_identity(x, filters=(256, 1024))\n",
        "\t\tx = res_identity(x, filters=(256, 1024))\n",
        "\t\tx = res_identity(x, filters=(256, 1024))\n",
        "\n",
        "\t\t# 5th stage\n",
        "\n",
        "\t\tx = res_conv(x, s=2, filters=(512, 2048))\n",
        "\t\tx = res_identity(x, filters=(512, 2048))\n",
        "\t\tx = res_identity(x, filters=(512, 2048))\n",
        "\n",
        "\t\t# ends with average pooling and dense connection\n",
        "\n",
        "\t\tx = AveragePooling2D((2, 2), padding='same')(x)\n",
        "\n",
        "\t\tx = Flatten()(x)\n",
        "\t\tx = Dense(1, activation='sigmoid', kernel_initializer='he_normal')(x) #multi-class\n",
        "\n",
        "\t\t# define the model \n",
        "\n",
        "\t\tmodel = Model(inputs=input_im, outputs=x, name='Resnet50')\n",
        "\n",
        "\t\treturn model\n",
        "\n",
        "\n",
        "model = resnet50()\n",
        "\n",
        "model.summary()\n",
        "\n",
        "model.compile(loss = 'binary_crossentropy',\n",
        "\t\t\t\t\t\toptimizer=optimizers.RMSprop(learning_rate=2e-5),\n",
        "\t\t\t\t\t\tmetrics=['acc'])\n",
        "\n",
        "history = model.fit(\n",
        "\t\t\t\t\t\ttrain_generator, \n",
        "\t\t\t\t\t\tepochs = 200)"
      ]
    },
    {
      "cell_type": "code",
      "source": [
        "model.save('modelo.h5')"
      ],
      "metadata": {
        "id": "X3lTVABUxArv"
      },
      "execution_count": 9,
      "outputs": []
    },
    {
      "cell_type": "code",
      "execution_count": 10,
      "metadata": {
        "colab": {
          "base_uri": "https://localhost:8080/",
          "height": 887
        },
        "id": "xXkDdpF5QX3V",
        "outputId": "038d9d49-0c7c-4d62-b47b-32f314fb44c9"
      },
      "outputs": [
        {
          "output_type": "display_data",
          "data": {
            "text/plain": [
              "<Figure size 640x480 with 1 Axes>"
            ],
            "image/png": "[encoded data removed]"
          },
          "metadata": {}
        },
        {
          "output_type": "display_data",
          "data": {
            "text/plain": [
              "<Figure size 640x480 with 1 Axes>"
            ],
            "image/png": "[encoded data removed]"
          },
          "metadata": {}
        }
      ],
      "source": [
        "acc = history.history['acc']\n",
        "loss = history.history['loss']\n",
        "\n",
        "epochs = range(1, len(acc)+1)\n",
        "\n",
        "plt.plot(epochs,acc,'bo',label='train accuracy')\n",
        "plt.title('train acc')\n",
        "plt.legend()\n",
        "\n",
        "plt.figure()\n",
        "\n",
        "plt.plot(epochs,loss, 'bo', label ='training loss')\n",
        "plt.title('train loss')\n",
        "plt.legend()\n",
        "\n",
        "plt.show()"
      ]
    },
    {
      "cell_type": "code",
      "execution_count": 11,
      "metadata": {
        "colab": {
          "base_uri": "https://localhost:8080/"
        },
        "id": "hSHeXVn246UW",
        "outputId": "5acecb40-5933-4d1d-b034-18d87d237925"
      },
      "outputs": [
        {
          "output_type": "stream",
          "name": "stdout",
          "text": [
            "Found 40 images belonging to 2 classes.\n"
          ]
        },
        {
          "output_type": "stream",
          "name": "stderr",
          "text": [
            "/usr/local/lib/python3.10/dist-packages/keras/preprocessing/image.py:1861: UserWarning: This ImageDataGenerator specifies `featurewise_center`, but it hasn't been fit on any training data. Fit it first by calling `.fit(numpy_data)`.\n",
            "  warnings.warn(\n"
          ]
        },
        {
          "output_type": "stream",
          "name": "stdout",
          "text": [
            " 2/25 [=>............................] - ETA: 1:59 - loss: 37660.5859 - acc: 0.5000"
          ]
        },
        {
          "output_type": "stream",
          "name": "stderr",
          "text": [
            "WARNING:tensorflow:Your input ran out of data; interrupting training. Make sure that your dataset or generator can generate at least `steps_per_epoch * epochs` batches (in this case, 25 batches). You may need to use the repeat() function when building your dataset.\n"
          ]
        },
        {
          "output_type": "stream",
          "name": "stdout",
          "text": [
            "\b\b\b\b\b\b\b\b\b\b\b\b\b\b\b\b\b\b\b\b\b\b\b\b\b\b\b\b\b\b\b\b\b\b\b\b\b\b\b\b\b\b\b\b\b\b\b\b\b\b\b\b\b\b\b\b\b\b\b\b\b\b\b\b\b\b\b\b\b\b\b\b\b\b\b\b\b\b\b\b\b\b\b\r25/25 [==============================] - 8s 219ms/step - loss: 37660.5859 - acc: 0.5000\n",
            "\n",
            "test acc :\n",
            " 0.5\n"
          ]
        }
      ],
      "source": [
        "test_datagen = ImageDataGenerator(1./255)\n",
        "test_generator = test_datagen.flow_from_directory(\n",
        "\t\t\t\t\ttest_dir,\n",
        "\t\t\t\t\ttarget_size = (150, 150),\n",
        "\t\t\t\t\tbatch_size = 20,\n",
        "\t\t\t\t\tclass_mode= 'binary')\n",
        "\n",
        "test_loss, test_acc = model.evaluate(test_generator, steps = 25)\n",
        "print('\\ntest acc :\\n', test_acc)\n"
      ]
    },
    {
      "cell_type": "markdown",
      "metadata": {
        "id": "rM_eK7C9-gDD"
      },
      "source": [
        "#Matriz de confusión"
      ]
    },
    {
      "cell_type": "code",
      "execution_count": 16,
      "metadata": {
        "id": "8l3FBLBq8ymw",
        "outputId": "e2a60c18-18cc-4200-8b83-27e8be4821e6",
        "colab": {
          "base_uri": "https://localhost:8080/"
        }
      },
      "outputs": [
        {
          "output_type": "stream",
          "name": "stderr",
          "text": [
            "/usr/local/lib/python3.10/dist-packages/keras/preprocessing/image.py:1861: UserWarning: This ImageDataGenerator specifies `featurewise_center`, but it hasn't been fit on any training data. Fit it first by calling `.fit(numpy_data)`.\n",
            "  warnings.warn(\n"
          ]
        },
        {
          "output_type": "stream",
          "name": "stdout",
          "text": [
            "[0. 1. 1. 0. 0. 0. 1. 0. 0. 1. 1. 0. 0. 0. 1. 0. 0. 1. 0. 0.]\n",
            "1/1 [==============================] - 3s 3s/step\n"
          ]
        },
        {
          "output_type": "execute_result",
          "data": {
            "text/plain": [
              "array([[1.        , 1.        , 0.99999994, 0.99999994, 0.99999994,\n",
              "        0.9999885 , 1.        , 0.999999  , 0.9999834 , 1.        ,\n",
              "        1.        , 0.9999737 , 1.        , 0.9999935 , 0.9999999 ,\n",
              "        1.        , 1.        , 1.        , 0.9999997 , 0.99995583]],\n",
              "      dtype=float32)"
            ]
          },
          "metadata": {},
          "execution_count": 16
        }
      ],
      "source": [
        "test_imgs = test_generator[0][0]\n",
        "test_labels = test_generator[0][1]\n",
        "print(test_labels)\n",
        "\n",
        "\n",
        "predictions = model.predict(test_imgs)\n",
        "classes_x = predictions.T\n",
        "classes_x"
      ]
    },
    {
      "cell_type": "code",
      "source": [
        "from tensorflow.math import confusion_matrix\n",
        "\n",
        "mat = confusion_matrix(classes_x[0], test_labels)\n",
        "print('         ', 'label synth ', ' label vapor') \n",
        "print('pred synth    ', np.array(mat[0][0]), \"          \", np.array(mat[0][1])) \n",
        "print('pred vapor    ', np.array(mat[1][0]), \"          \", np.array(mat[1][1]))"
      ],
      "metadata": {
        "id": "Id-DeDWy844J",
        "outputId": "4aa1219b-2cde-49c3-f359-d586f5413e37",
        "colab": {
          "base_uri": "https://localhost:8080/"
        }
      },
      "execution_count": 17,
      "outputs": [
        {
          "output_type": "stream",
          "name": "stdout",
          "text": [
            "          label synth   label vapor\n",
            "pred synth     9            2\n",
            "pred vapor     4            5\n"
          ]
        }
      ]
    },
    {
      "cell_type": "code",
      "execution_count": 18,
      "metadata": {
        "colab": {
          "base_uri": "https://localhost:8080/",
          "height": 505
        },
        "id": "dTruXdjGf5nX",
        "outputId": "696968e5-59ce-434b-f5fb-0d31cb7792a5"
      },
      "outputs": [
        {
          "output_type": "display_data",
          "data": {
            "text/plain": [
              "<Figure size 640x480 with 1 Axes>"
            ],
            "image/png": "[encoded data removed]"
          },
          "metadata": {}
        },
        {
          "output_type": "stream",
          "name": "stdout",
          "text": [
            "Predicción:  0.7\n"
          ]
        }
      ],
      "source": [
        "import seaborn as sns\n",
        "from sklearn import datasets\n",
        "from sklearn.linear_model import LogisticRegression\n",
        "from sklearn.model_selection import train_test_split\n",
        "from sklearn.metrics import confusion_matrix\n",
        "import pandas as pd\n",
        "\n",
        "pf = pd.DataFrame(mat, index=['Predicción Synthwave', 'Predicción Vaporwave'], columns=['Label Synthwave', 'Label Vaporwave'])\n",
        "\n",
        "sns.heatmap(pf, annot=True, cbar=None, cmap=\"Blues\")\n",
        "plt.title(\"Matriz de confusion\"), plt.tight_layout()\n",
        "plt.show()\n",
        "\n",
        "TP = np.array(mat[0][0]) + np.array(mat[1][1])\n",
        "FP = np.array(mat[1][0]) + np.array(mat[0][1])\n",
        "\n",
        "print(\"Predicción: \", TP/(TP + FP))"
      ]
    },
    {
      "cell_type": "markdown",
      "source": [
        "Aún falta refinar el modelo, ya que la predicción es menor que 80%"
      ],
      "metadata": {
        "id": "PC60KTs2NmuC"
      }
    }
  ],
  "metadata": {
    "colab": {
      "provenance": []
    },
    "kernelspec": {
      "display_name": "Python 3",
      "name": "python3"
    },
    "language_info": {
      "name": "python"
    }
  },
  "nbformat": 4,
  "nbformat_minor": 0
}